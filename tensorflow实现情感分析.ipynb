{
 "cells": [
  {
   "cell_type": "markdown",
   "metadata": {},
   "source": [
    "## tensorflow实现情感分析"
   ]
  },
  {
   "cell_type": "code",
   "execution_count": 1,
   "metadata": {},
   "outputs": [],
   "source": [
    "# 导包\n",
    "import tensorflow as tf\n",
    "import numpy as np\n",
    "import pandas as pd\n",
    "import matplotlib.pyplot as plt\n",
    "import jieba\n",
    "from gensim.models import KeyedVectors\n",
    "\n",
    "import re\n",
    "import os\n"
   ]
  },
  {
   "cell_type": "code",
   "execution_count": 2,
   "metadata": {},
   "outputs": [],
   "source": [
    "# 使用gensim加载预训练中文分词，需要等待一段时间\n",
    "cn_model = KeyedVectors.load_word2vec_format('vectors/sgns.zhihu.bigram',\n",
    "                                            binary=False, unicode_errors='ignore')"
   ]
  },
  {
   "cell_type": "code",
   "execution_count": 3,
   "metadata": {},
   "outputs": [],
   "source": [
    "# 读取训练数据\n",
    "pos_file_list = os.listdir('data/pos')\n",
    "neg_file_list = os.listdir('data/neg')\n",
    "pos_file_list = [f'data/pos/{x}' for x in pos_file_list]\n",
    "neg_file_list = [f'data/neg/{x}' for x in neg_file_list]\n",
    "pos_neg_file_list = pos_file_list + neg_file_list"
   ]
  },
  {
   "cell_type": "code",
   "execution_count": 4,
   "metadata": {},
   "outputs": [],
   "source": [
    "# 读取所有的文本，放入到x_train,前3000是正向样本，后3000负向样本\n",
    "x_train = []\n",
    "for file in pos_neg_file_list:\n",
    "    with open(file, 'r', encoding='utf-8') as f:\n",
    "        text = f.read().strip()\n",
    "        pass\n",
    "    x_train.append(text)\n",
    "    pass\n"
   ]
  },
  {
   "cell_type": "code",
   "execution_count": 5,
   "metadata": {},
   "outputs": [],
   "source": [
    "x_train = np.array(x_train)\n",
    "y_train = np.concatenate((np.ones(3000), np.zeros(3000)))  # 生成标签\n"
   ]
  },
  {
   "cell_type": "code",
   "execution_count": 6,
   "metadata": {},
   "outputs": [],
   "source": [
    "# 打乱训练样本和标签的顺序\n",
    "np.random.seed(116)\n",
    "np.random.shuffle(x_train)\n",
    "\n",
    "np.random.seed(116)\n",
    "np.random.shuffle(y_train)"
   ]
  },
  {
   "cell_type": "code",
   "execution_count": 7,
   "metadata": {},
   "outputs": [
    {
     "name": "stderr",
     "output_type": "stream",
     "text": [
      "Building prefix dict from the default dictionary ...\n",
      "Loading model from cache C:\\Users\\Gxt\\AppData\\Local\\Temp\\jieba.cache\n",
      "Loading model cost 0.520 seconds.\n",
      "Prefix dict has been built successfully.\n"
     ]
    }
   ],
   "source": [
    "# 进行分词操作\n",
    "x_train_tokens = []\n",
    "for text in x_train:\n",
    "    # 去掉标点\n",
    "    # text = re.sub(\"[\\s+.!/_,$%^(+\\\"']+|[+——！，。？、~@#￥%……&（）]+\", \"\", text)\n",
    "    cut = jieba.cut(text)\n",
    "    cut_list = [x for x in cut]\n",
    "    for i,word in enumerate(cut_list):\n",
    "        try:\n",
    "            # 将词转换为索引index\n",
    "            cut_list[i] = cn_model.vocab[word].index\n",
    "            pass\n",
    "        except KeyError:\n",
    "            # 如果词不在字典中，则输出0\n",
    "            cut_list[i] = 0\n",
    "            pass   \n",
    "        pass\n",
    "    x_train_tokens.append(cut_list)\n",
    "    pass"
   ]
  },
  {
   "cell_type": "code",
   "execution_count": 8,
   "metadata": {},
   "outputs": [],
   "source": [
    "# 索引长度标准化\n",
    "# 因为每段评语的长度是不一样的，我们如果单纯取最长的一个评语，并把其他评语填充成同样的长度，\n",
    "# 这样十分浪费计算资源，所以我们去一个折衷的长度\n",
    "tokens_count = [len(tokens) for tokens in x_train_tokens]\n",
    "tokens_count.sort(reverse=True)\n",
    "\n"
   ]
  },
  {
   "cell_type": "code",
   "execution_count": 9,
   "metadata": {},
   "outputs": [
    {
     "data": {
      "image/png": "[encoded data removed]",
      "text/plain": [
       "<Figure size 432x288 with 1 Axes>"
      ]
     },
     "metadata": {
      "needs_background": "light"
     },
     "output_type": "display_data"
    }
   ],
   "source": [
    "\n",
    "# 画图查看词的长度分布\n",
    "plt.plot(tokens_count)\n",
    "plt.ylabel('tokens count')\n",
    "plt.xlabel('tokens length')\n",
    "plt.show()\n",
    "# 可以看出大部分词的长度都是在500以下的"
   ]
  },
  {
   "cell_type": "code",
   "execution_count": 10,
   "metadata": {},
   "outputs": [
    {
     "data": {
      "text/plain": [
       "297.3980831340084"
      ]
     },
     "execution_count": 10,
     "metadata": {},
     "output_type": "execute_result"
    }
   ],
   "source": [
    "# 当tokens长度分布满足正态分布的时候，\n",
    "# 可以使用 取tokens的平均值并且加上两个tokens的标准差，来选用tokens的长度\n",
    "tokens_length = np.mean(tokens_count) + 2 * np.std(tokens_count)\n",
    "tokens_length"
   ]
  },
  {
   "cell_type": "code",
   "execution_count": 11,
   "metadata": {},
   "outputs": [
    {
     "data": {
      "text/plain": [
       "0.9545"
      ]
     },
     "execution_count": 11,
     "metadata": {},
     "output_type": "execute_result"
    }
   ],
   "source": [
    "\n",
    "\n",
    "# 可以看到当tokens的长度为244，大约95%的样本被覆盖，\n",
    "# 我们需要对长度不足的tokens进行padding，超长的进行修剪\n",
    "np.sum(tokens_count < tokens_length) / len(tokens_count)"
   ]
  },
  {
   "cell_type": "code",
   "execution_count": 12,
   "metadata": {},
   "outputs": [],
   "source": [
    "# 定义一个把tokens转换成文本的方法\n",
    "def reverse_tokens(tokens):\n",
    "    text = ''\n",
    "    for index in tokens:\n",
    "        if index != 0:\n",
    "            text = text + cn_model.index2word[index]\n",
    "        else:\n",
    "            text = text + ''\n",
    "        pass\n",
    "    return text\n",
    "    pass"
   ]
  },
  {
   "cell_type": "code",
   "execution_count": 13,
   "metadata": {},
   "outputs": [
    {
     "name": "stdout",
     "output_type": "stream",
     "text": [
      "酒店的服务简直不好程度排第一！我住1702房间漏风。调整到1710房间！这个房间的空调是坏的！半夜给了。调整到房间明显比1702和1710房间小的很多而且房间不能够上网我已经被折磨的没有力气在调整房间了。想躺在床上看看电视我的天啊！看不了！总之我对这次携程的服务比较满意对该辽宁省沈阳市城市酒店提供的客房服务是特别特别特别的不满意！我希望携程能够好好考虑一下自己的加盟酒店总是这样我们还怎么相信携程这样的品牌。总体来说我很郁闷！也特别的伤心！\n"
     ]
    },
    {
     "data": {
      "text/plain": [
       "0.0"
      ]
     },
     "execution_count": 13,
     "metadata": {},
     "output_type": "execute_result"
    }
   ],
   "source": [
    "print(reverse_tokens(x_train_tokens[0]))\n",
    "y_train[0]"
   ]
  },
  {
   "cell_type": "code",
   "execution_count": 14,
   "metadata": {},
   "outputs": [],
   "source": [
    "embedding_matrix = np.zeros((50000, 300))\n",
    "for i in range(50000):\n",
    "    embedding_matrix[i, :] = cn_model[cn_model.index2word[i]]\n",
    "    pass\n",
    "embedding_matrix = embedding_matrix.astype('float32')\n"
   ]
  },
  {
   "cell_type": "code",
   "execution_count": 15,
   "metadata": {},
   "outputs": [],
   "source": [
    "x_train_tokens_pad = tf.keras.preprocessing.sequence.pad_sequences(x_train_tokens,\n",
    "                                                                  maxlen=int(tokens_length),\n",
    "                                                                  padding='pre',\n",
    "                                                                  truncating='pre')"
   ]
  },
  {
   "cell_type": "code",
   "execution_count": 16,
   "metadata": {},
   "outputs": [
    {
     "data": {
      "text/plain": [
       "300"
      ]
     },
     "execution_count": 16,
     "metadata": {},
     "output_type": "execute_result"
    }
   ],
   "source": [
    "x_train_tokens_pad[x_train_tokens_pad >= 50000] = 0\n",
    "# x_train_tokens_pad.shape\n",
    "np.sum(cn_model[cn_model.index2word[300]] == embedding_matrix[300])\n"
   ]
  },
  {
   "cell_type": "code",
   "execution_count": 17,
   "metadata": {},
   "outputs": [],
   "source": [
    "# 使用90%进行训练，10%进行测试\n",
    "# x_tokens_train = x_train_tokens_pad[:-int(x_train_tokens_pad.shape[0] / 10)]\n",
    "# x_tokens_test = x_train_tokens_pad[-int(x_train_tokens_pad.shape[0] / 10):]\n",
    "# y_tokens_train = y_train[:-int(y_train.shape[0] / 10)]\n",
    "# y_tokens_test = y_train[-int(y_train.shape[0] / 10):]\n",
    "from sklearn.model_selection import train_test_split\n",
    "x_tokens_train, x_tokens_test, y_tokens_train, y_tokens_test = train_test_split(\n",
    "    x_train_tokens_pad,\n",
    "    y_train,\n",
    "    test_size=0.1,\n",
    "    random_state=12\n",
    ")"
   ]
  },
  {
   "cell_type": "code",
   "execution_count": 18,
   "metadata": {},
   "outputs": [
    {
     "data": {
      "text/plain": [
       "(50000, 300)"
      ]
     },
     "execution_count": 18,
     "metadata": {},
     "output_type": "execute_result"
    }
   ],
   "source": [
    "x_tokens_train.shape\n",
    "embedding_matrix.shape"
   ]
  },
  {
   "cell_type": "code",
   "execution_count": 84,
   "metadata": {},
   "outputs": [],
   "source": [
    "# 构建模型\n",
    "model = tf.keras.models.Sequential([\n",
    "    tf.keras.layers.Embedding(50000,300,                          \n",
    "                              weights=[embedding_matrix],\n",
    "                              input_length=int(tokens_length),\n",
    "                              trainable=False,\n",
    "                                        ),\n",
    "#     tf.keras.layers.Dense(128, activation='relu'),\n",
    "    tf.keras.layers.Bidirectional(\n",
    "        tf.keras.layers.LSTM(\n",
    "            units=64, return_sequences=True \n",
    "        )),\n",
    "    tf.keras.layers.LSTM(32, return_sequences=False),\n",
    "#     tf.keras.layers.Dense(128, activation='relu'),\n",
    "    tf.keras.layers.Dense(2, activation='softmax')\n",
    "])\n",
    "model.compile(optimizer='Adam',\n",
    "              loss='sparse_categorical_crossentropy',\n",
    "              metrics=['sparse_categorical_accuracy']\n",
    "             )\n",
    "# , kernel_regularizer=tf.keras.regularizers.l2(0.01)"
   ]
  },
  {
   "cell_type": "code",
   "execution_count": 85,
   "metadata": {
    "scrolled": true
   },
   "outputs": [
    {
     "name": "stdout",
     "output_type": "stream",
     "text": [
      "Model: \"sequential_14\"\n",
      "_________________________________________________________________\n",
      "Layer (type)                 Output Shape              Param #   \n",
      "=================================================================\n",
      "embedding_17 (Embedding)     (None, 297, 300)          15000000  \n",
      "_________________________________________________________________\n",
      "bidirectional_17 (Bidirectio (None, 297, 128)          186880    \n",
      "_________________________________________________________________\n",
      "lstm_36 (LSTM)               (None, 32)                20608     \n",
      "_________________________________________________________________\n",
      "dense_25 (Dense)             (None, 2)                 66        \n",
      "=================================================================\n",
      "Total params: 15,207,554\n",
      "Trainable params: 207,554\n",
      "Non-trainable params: 15,000,000\n",
      "_________________________________________________________________\n"
     ]
    }
   ],
   "source": [
    "model.summary()"
   ]
  },
  {
   "cell_type": "code",
   "execution_count": 86,
   "metadata": {},
   "outputs": [
    {
     "name": "stdout",
     "output_type": "stream",
     "text": [
      "Epoch 1/40\n",
      "38/38 [==============================] - 110s 3s/step - loss: 0.5623 - sparse_categorical_accuracy: 0.7027 - val_loss: 0.4537 - val_sparse_categorical_accuracy: 0.7815\n",
      "Epoch 2/40\n",
      "38/38 [==============================] - 113s 3s/step - loss: 0.4334 - sparse_categorical_accuracy: 0.8099 - val_loss: 0.3983 - val_sparse_categorical_accuracy: 0.8333\n",
      "Epoch 3/40\n",
      "38/38 [==============================] - 113s 3s/step - loss: 0.3890 - sparse_categorical_accuracy: 0.8325 - val_loss: 0.3919 - val_sparse_categorical_accuracy: 0.8370\n",
      "Epoch 4/40\n",
      "38/38 [==============================] - 111s 3s/step - loss: 0.3643 - sparse_categorical_accuracy: 0.8479 - val_loss: 0.3370 - val_sparse_categorical_accuracy: 0.8500\n",
      "Epoch 5/40\n",
      "38/38 [==============================] - 104s 3s/step - loss: 0.2912 - sparse_categorical_accuracy: 0.8883 - val_loss: 0.3595 - val_sparse_categorical_accuracy: 0.8611\n",
      "Epoch 6/40\n",
      "38/38 [==============================] - 108s 3s/step - loss: 0.3268 - sparse_categorical_accuracy: 0.8654 - val_loss: 0.2909 - val_sparse_categorical_accuracy: 0.8926\n",
      "Epoch 7/40\n",
      "38/38 [==============================] - 107s 3s/step - loss: 0.2506 - sparse_categorical_accuracy: 0.9027 - val_loss: 0.3001 - val_sparse_categorical_accuracy: 0.8870\n",
      "Epoch 8/40\n",
      "38/38 [==============================] - 106s 3s/step - loss: 0.2277 - sparse_categorical_accuracy: 0.9115 - val_loss: 0.3105 - val_sparse_categorical_accuracy: 0.8667\n",
      "Epoch 9/40\n",
      "38/38 [==============================] - 110s 3s/step - loss: 0.2863 - sparse_categorical_accuracy: 0.8776 - val_loss: 0.3483 - val_sparse_categorical_accuracy: 0.8519\n",
      "Epoch 10/40\n",
      "38/38 [==============================] - 109s 3s/step - loss: 0.2552 - sparse_categorical_accuracy: 0.8994 - val_loss: 0.3339 - val_sparse_categorical_accuracy: 0.8815\n",
      "Epoch 11/40\n",
      "38/38 [==============================] - 107s 3s/step - loss: 0.2028 - sparse_categorical_accuracy: 0.9233 - val_loss: 0.3164 - val_sparse_categorical_accuracy: 0.8722\n",
      "Epoch 12/40\n",
      "38/38 [==============================] - 109s 3s/step - loss: 0.1691 - sparse_categorical_accuracy: 0.9393 - val_loss: 0.3016 - val_sparse_categorical_accuracy: 0.8852\n",
      "Epoch 13/40\n",
      "38/38 [==============================] - 112s 3s/step - loss: 0.1473 - sparse_categorical_accuracy: 0.9500 - val_loss: 0.3067 - val_sparse_categorical_accuracy: 0.8870\n",
      "Epoch 14/40\n",
      "38/38 [==============================] - 108s 3s/step - loss: 0.1299 - sparse_categorical_accuracy: 0.9510 - val_loss: 0.3320 - val_sparse_categorical_accuracy: 0.8926\n",
      "Epoch 15/40\n",
      "38/38 [==============================] - 107s 3s/step - loss: 0.1759 - sparse_categorical_accuracy: 0.9321 - val_loss: 0.3244 - val_sparse_categorical_accuracy: 0.8870\n",
      "Epoch 16/40\n",
      "38/38 [==============================] - 107s 3s/step - loss: 0.1093 - sparse_categorical_accuracy: 0.9644 - val_loss: 0.3537 - val_sparse_categorical_accuracy: 0.8815\n",
      "Epoch 17/40\n",
      "38/38 [==============================] - 106s 3s/step - loss: 0.0918 - sparse_categorical_accuracy: 0.9695 - val_loss: 0.3546 - val_sparse_categorical_accuracy: 0.8926\n",
      "Epoch 18/40\n",
      "38/38 [==============================] - 107s 3s/step - loss: 0.0531 - sparse_categorical_accuracy: 0.9842 - val_loss: 0.3913 - val_sparse_categorical_accuracy: 0.8926\n",
      "Epoch 19/40\n",
      "38/38 [==============================] - 107s 3s/step - loss: 0.0387 - sparse_categorical_accuracy: 0.9899 - val_loss: 0.4424 - val_sparse_categorical_accuracy: 0.8759\n",
      "Epoch 20/40\n",
      "38/38 [==============================] - 107s 3s/step - loss: 0.0295 - sparse_categorical_accuracy: 0.9926 - val_loss: 0.4568 - val_sparse_categorical_accuracy: 0.8907\n",
      "Epoch 21/40\n",
      "38/38 [==============================] - 107s 3s/step - loss: 0.0250 - sparse_categorical_accuracy: 0.9926 - val_loss: 0.4438 - val_sparse_categorical_accuracy: 0.8870\n",
      "Epoch 22/40\n",
      "38/38 [==============================] - 107s 3s/step - loss: 0.0234 - sparse_categorical_accuracy: 0.9938 - val_loss: 0.4613 - val_sparse_categorical_accuracy: 0.8870\n",
      "Epoch 23/40\n",
      "38/38 [==============================] - 108s 3s/step - loss: 0.0362 - sparse_categorical_accuracy: 0.9885 - val_loss: 0.4571 - val_sparse_categorical_accuracy: 0.8889\n",
      "Epoch 24/40\n",
      "38/38 [==============================] - 107s 3s/step - loss: 0.0178 - sparse_categorical_accuracy: 0.9940 - val_loss: 0.5451 - val_sparse_categorical_accuracy: 0.8833\n",
      "Epoch 25/40\n",
      "38/38 [==============================] - 106s 3s/step - loss: 0.0377 - sparse_categorical_accuracy: 0.9897 - val_loss: 0.4689 - val_sparse_categorical_accuracy: 0.8926\n",
      "Epoch 26/40\n",
      "38/38 [==============================] - 108s 3s/step - loss: 0.0221 - sparse_categorical_accuracy: 0.9932 - val_loss: 0.4566 - val_sparse_categorical_accuracy: 0.8889\n",
      "Epoch 27/40\n",
      "38/38 [==============================] - 107s 3s/step - loss: 0.0084 - sparse_categorical_accuracy: 0.9981 - val_loss: 0.5586 - val_sparse_categorical_accuracy: 0.8796\n",
      "Epoch 28/40\n",
      "38/38 [==============================] - 108s 3s/step - loss: 0.0036 - sparse_categorical_accuracy: 0.9994 - val_loss: 0.5943 - val_sparse_categorical_accuracy: 0.8796\n",
      "Epoch 29/40\n",
      "38/38 [==============================] - 106s 3s/step - loss: 0.0020 - sparse_categorical_accuracy: 0.9998 - val_loss: 0.5978 - val_sparse_categorical_accuracy: 0.8852\n",
      "Epoch 30/40\n",
      "38/38 [==============================] - 107s 3s/step - loss: 0.0016 - sparse_categorical_accuracy: 0.9998 - val_loss: 0.6288 - val_sparse_categorical_accuracy: 0.8852\n",
      "Epoch 31/40\n",
      "38/38 [==============================] - 105s 3s/step - loss: 0.0013 - sparse_categorical_accuracy: 0.9998 - val_loss: 0.6366 - val_sparse_categorical_accuracy: 0.8870\n",
      "Epoch 32/40\n",
      "38/38 [==============================] - 108s 3s/step - loss: 0.0011 - sparse_categorical_accuracy: 1.0000 - val_loss: 0.6447 - val_sparse_categorical_accuracy: 0.8870\n",
      "Epoch 33/40\n",
      "38/38 [==============================] - 107s 3s/step - loss: 9.3514e-04 - sparse_categorical_accuracy: 0.9998 - val_loss: 0.6569 - val_sparse_categorical_accuracy: 0.8870\n",
      "Epoch 34/40\n",
      "38/38 [==============================] - 111s 3s/step - loss: 8.6437e-04 - sparse_categorical_accuracy: 1.0000 - val_loss: 0.6661 - val_sparse_categorical_accuracy: 0.8889\n",
      "Epoch 35/40\n",
      "38/38 [==============================] - 107s 3s/step - loss: 7.3855e-04 - sparse_categorical_accuracy: 1.0000 - val_loss: 0.6750 - val_sparse_categorical_accuracy: 0.8907\n",
      "Epoch 36/40\n",
      "38/38 [==============================] - 105s 3s/step - loss: 7.4088e-04 - sparse_categorical_accuracy: 0.9998 - val_loss: 0.6813 - val_sparse_categorical_accuracy: 0.8870\n",
      "Epoch 37/40\n",
      "38/38 [==============================] - 106s 3s/step - loss: 6.9850e-04 - sparse_categorical_accuracy: 1.0000 - val_loss: 0.6864 - val_sparse_categorical_accuracy: 0.8852\n",
      "Epoch 38/40\n",
      "38/38 [==============================] - 106s 3s/step - loss: 6.0473e-04 - sparse_categorical_accuracy: 0.9998 - val_loss: 0.7006 - val_sparse_categorical_accuracy: 0.8889\n",
      "Epoch 39/40\n",
      "38/38 [==============================] - 104s 3s/step - loss: 5.5436e-04 - sparse_categorical_accuracy: 1.0000 - val_loss: 0.7031 - val_sparse_categorical_accuracy: 0.8926\n",
      "Epoch 40/40\n",
      "38/38 [==============================] - 106s 3s/step - loss: 5.0308e-04 - sparse_categorical_accuracy: 1.0000 - val_loss: 0.7084 - val_sparse_categorical_accuracy: 0.8870\n"
     ]
    }
   ],
   "source": [
    "history = model.fit(x_tokens_train, \n",
    "          y_tokens_train,\n",
    "          batch_size=128,\n",
    "          epochs=40, \n",
    "          validation_split=0.1,\n",
    "          validation_freq=1\n",
    "         )"
   ]
  },
  {
   "cell_type": "code",
   "execution_count": 87,
   "metadata": {
    "scrolled": true
   },
   "outputs": [
    {
     "name": "stdout",
     "output_type": "stream",
     "text": [
      "Model: \"sequential_14\"\n",
      "_________________________________________________________________\n",
      "Layer (type)                 Output Shape              Param #   \n",
      "=================================================================\n",
      "embedding_17 (Embedding)     (None, 297, 300)          15000000  \n",
      "_________________________________________________________________\n",
      "bidirectional_17 (Bidirectio (None, 297, 128)          186880    \n",
      "_________________________________________________________________\n",
      "lstm_36 (LSTM)               (None, 32)                20608     \n",
      "_________________________________________________________________\n",
      "dense_25 (Dense)             (None, 2)                 66        \n",
      "=================================================================\n",
      "Total params: 15,207,554\n",
      "Trainable params: 207,554\n",
      "Non-trainable params: 15,000,000\n",
      "_________________________________________________________________\n"
     ]
    }
   ],
   "source": [
    "model.summary()"
   ]
  },
  {
   "cell_type": "code",
   "execution_count": 88,
   "metadata": {},
   "outputs": [
    {
     "name": "stdout",
     "output_type": "stream",
     "text": [
      "19/19 [==============================] - 6s 339ms/step - loss: 0.5709 - sparse_categorical_accuracy: 0.9150\n",
      "Accuracy : 0.9150000214576721\n"
     ]
    }
   ],
   "source": [
    "result = model.evaluate(x_tokens_test, y_tokens_test)\n",
    "print(f'Accuracy : {result[1]}')"
   ]
  },
  {
   "cell_type": "code",
   "execution_count": 89,
   "metadata": {},
   "outputs": [
    {
     "data": {
      "image/png": "[encoded data removed]",
      "text/plain": [
       "<Figure size 432x288 with 1 Axes>"
      ]
     },
     "metadata": {
      "needs_background": "light"
     },
     "output_type": "display_data"
    },
    {
     "data": {
      "image/png": "[encoded data removed]",
      "text/plain": [
       "<Figure size 432x288 with 1 Axes>"
      ]
     },
     "metadata": {
      "needs_background": "light"
     },
     "output_type": "display_data"
    }
   ],
   "source": [
    "# history.history['loss']\n",
    "# history.history['val_loss']\n",
    "# history.history['sparse_categorical_accuracy']\n",
    "# history.history['val_sparse_categorical_accuracy']\n",
    "plt.plot(history.history['loss'],label=\"$Loss$\")\n",
    "plt.plot(history.history['val_loss'],label='$val_loss$')\n",
    "plt.title('Loss')\n",
    "plt.xlabel('epoch')\n",
    "plt.ylabel('num')\n",
    "plt.legend()\n",
    "plt.show()\n",
    "plt.plot(history.history['sparse_categorical_accuracy'],label=\"$sparse_categorical_accuracy$\")\n",
    "plt.plot(history.history['val_sparse_categorical_accuracy'],label='$val_sparse_categorical_accuracy$')\n",
    "plt.title('Accuracy')\n",
    "plt.xlabel('epoch')\n",
    "plt.ylabel('num')\n",
    "plt.legend()\n",
    "plt.show()"
   ]
  },
  {
   "cell_type": "code",
   "execution_count": 90,
   "metadata": {},
   "outputs": [],
   "source": [
    "def predict_sentiment(text):\n",
    "    \n",
    "    print(text)\n",
    "    text = re.sub(\"[\\s+.!/_,$%^(+\\\"'\\”\\“]+|[+——！，。？、~@#￥%……&（）]+\", \"\", text)\n",
    "    # 分词\n",
    "    cut = jieba.cut(text)\n",
    "    cut_list = [x for x in cut]\n",
    "    for i, word in enumerate(cut_list):\n",
    "        try:\n",
    "            cut_list[i] = cn_model.vocab[word].index\n",
    "        except KeyError:\n",
    "            cut_list[i] = 0\n",
    "        pass\n",
    "    # padding\n",
    "    tokens_pad = tf.keras.preprocessing.sequence.pad_sequences([cut_list],\n",
    "                                                                  maxlen=int(tokens_length),\n",
    "                                                                  padding='pre',\n",
    "                                                                  truncating='pre')\n",
    "    return tokens_pad\n",
    "    pass"
   ]
  },
  {
   "cell_type": "code",
   "execution_count": 93,
   "metadata": {},
   "outputs": [],
   "source": [
    "test_list = [\n",
    "'酒店设施不是新的，服务态度很不好',\n",
    "'酒店卫生条件非常不好',\n",
    "'床铺非常舒适',\n",
    "'房间很冷，还不给开暖气',\n",
    "'房间很凉爽，空调冷气很足',\n",
    "'酒店环境不好，住宿体验很不好',\n",
    "'房间隔音不到位' ,\n",
    "'晚上回来发现没有打扫卫生,心情不好',\n",
    "'因为过节所以要我临时加钱，比团购的价格贵',\n",
    "'房间很温馨，前台服务很好,',\n",
    "'国庆出游人比较多，各个景点都是，这个时候能欣赏到风景就不错了。行程整体比较满意，希望酒店可以稍微离市区近点就更完美了'\n",
    "]"
   ]
  },
  {
   "cell_type": "code",
   "execution_count": 94,
   "metadata": {},
   "outputs": [
    {
     "name": "stdout",
     "output_type": "stream",
     "text": [
      "酒店设施不是新的，服务态度很不好\n",
      "[[0.98101556 0.01898442]]\n",
      "负:0.9810155630111694\n",
      "酒店卫生条件非常不好\n",
      "[[9.9976319e-01 2.3681107e-04]]\n",
      "负:0.9997631907463074\n",
      "床铺非常舒适\n",
      "[[0.00251764 0.99748236]]\n",
      "正:0.9974823594093323\n",
      "房间很冷，还不给开暖气\n",
      "[[0.00424713 0.99575293]]\n",
      "正:0.9957529306411743\n",
      "房间很凉爽，空调冷气很足\n",
      "[[5.4499478e-04 9.9945503e-01]]\n",
      "正:0.9994550347328186\n",
      "酒店环境不好，住宿体验很不好\n",
      "[[9.9991775e-01 8.2195154e-05]]\n",
      "负:0.99991774559021\n",
      "房间隔音不到位\n",
      "[[0.96766675 0.03233326]]\n",
      "负:0.967666745185852\n",
      "晚上回来发现没有打扫卫生,心情不好\n",
      "[[0.9203221  0.07967793]]\n",
      "负:0.9203221201896667\n",
      "因为过节所以要我临时加钱，比团购的价格贵\n",
      "[[0.99784744 0.00215254]]\n",
      "负:0.9978474378585815\n",
      "房间很温馨，前台服务很好,\n",
      "[[8.8387911e-05 9.9991155e-01]]\n",
      "正:0.9999115467071533\n",
      "国庆出游人比较多，各个景点都是，这个时候能欣赏到风景就不错了。行程整体比较满意，希望酒店可以稍微离市区近点就更完美了\n",
      "[[3.953311e-05 9.999604e-01]]\n",
      "正:0.9999604225158691\n"
     ]
    }
   ],
   "source": [
    "for text in test_list:\n",
    "    try:\n",
    "        tokens_pad = predict_sentiment(text)\n",
    "        result = model.predict(x=tokens_pad)\n",
    "        print(result)\n",
    "        if result[0][0] <= result[0][1]:\n",
    "            print(f'正:{result[0][1]}')\n",
    "        else:\n",
    "            print(f'负:{result[0][0]}')\n",
    "    except Exception as ex:\n",
    "        print(ex.args)\n",
    "        pass\n",
    "    pass"
   ]
  },
  {
   "cell_type": "code",
   "execution_count": 223,
   "metadata": {},
   "outputs": [],
   "source": [
    "embedding_matrix = np.zeros((50000, 300))\n",
    "for i in range(50000):\n",
    "    embedding_matrix[i, :] = cn_model[cn_model.index2word[i]]\n",
    "    pass\n",
    "embedding_matrix = embedding_matrix.astype('float32')\n"
   ]
  },
  {
   "cell_type": "code",
   "execution_count": 224,
   "metadata": {},
   "outputs": [
    {
     "data": {
      "text/plain": [
       "244.26095871510626"
      ]
     },
     "execution_count": 224,
     "metadata": {},
     "output_type": "execute_result"
    }
   ],
   "source": [
    "# 使用LSTM对样本进行分类\n",
    "model_lstm = tf.keras.models.Sequential()\n",
    "tokens_length"
   ]
  },
  {
   "cell_type": "code",
   "execution_count": 225,
   "metadata": {},
   "outputs": [],
   "source": [
    "# 构建第一层embedding\n",
    "model_lstm.add(tf.keras.layers.Embedding(50000,300,\n",
    "                                         weights=[embedding_matrix],\n",
    "                                         input_length=int(tokens_length),\n",
    "                                         trainable=False                                        \n",
    "                                        ))"
   ]
  },
  {
   "cell_type": "code",
   "execution_count": 226,
   "metadata": {},
   "outputs": [],
   "source": [
    "model_lstm.add(tf.keras.layers.Bidirectional(tf.keras.layers.LSTM(units=64, return_sequences=True)))\n",
    "model_lstm.add(tf.keras.layers.LSTM(units=16, return_sequences=False))"
   ]
  },
  {
   "cell_type": "code",
   "execution_count": 227,
   "metadata": {},
   "outputs": [],
   "source": [
    "model_lstm.add(tf.keras.layers.Dense(1, activation='sigmoid'))"
   ]
  },
  {
   "cell_type": "code",
   "execution_count": 228,
   "metadata": {},
   "outputs": [],
   "source": [
    "model_lstm.compile(optimizer=tf.keras.optimizers.Adam(lr=1e-3),\n",
    "                   loss='binary_crossentropy',\n",
    "                   metrics=['accuracy']\n",
    "                  )"
   ]
  },
  {
   "cell_type": "code",
   "execution_count": 229,
   "metadata": {},
   "outputs": [
    {
     "name": "stdout",
     "output_type": "stream",
     "text": [
      "Model: \"sequential_19\"\n",
      "_________________________________________________________________\n",
      "Layer (type)                 Output Shape              Param #   \n",
      "=================================================================\n",
      "embedding_18 (Embedding)     (None, 244, 300)          15000000  \n",
      "_________________________________________________________________\n",
      "bidirectional_7 (Bidirection (None, 244, 128)          186880    \n",
      "_________________________________________________________________\n",
      "lstm_18 (LSTM)               (None, 16)                9280      \n",
      "_________________________________________________________________\n",
      "dense_36 (Dense)             (None, 1)                 17        \n",
      "=================================================================\n",
      "Total params: 15,196,177\n",
      "Trainable params: 196,177\n",
      "Non-trainable params: 15,000,000\n",
      "_________________________________________________________________\n"
     ]
    }
   ],
   "source": [
    "model_lstm.summary()"
   ]
  },
  {
   "cell_type": "code",
   "execution_count": 230,
   "metadata": {},
   "outputs": [],
   "source": [
    "path_checkpoint = 'sentiment_checkpoint.keras'\n",
    "checkpoint = tf.keras.callbacks.ModelCheckpoint(filepath=path_checkpoint, monitor='val_loss',\n",
    "                                                verbose=1, save_weights_only=True,\n",
    "                                                save_best_only=True\n",
    "                                               )"
   ]
  },
  {
   "cell_type": "code",
   "execution_count": 231,
   "metadata": {},
   "outputs": [],
   "source": [
    "# 定义darly stroping如果3个epoch内validation loss没有改善，则停止训练\n",
    "earlystopping = tf.keras.callbacks.EarlyStopping(monitor='val_loss', patience=5, \n",
    "                                                verbose=1)"
   ]
  },
  {
   "cell_type": "code",
   "execution_count": 232,
   "metadata": {},
   "outputs": [],
   "source": [
    "# 自动降低learing rate\n",
    "lr_reduction = tf.keras.callbacks.ReduceLROnPlateau(monitor='val_loss',\n",
    "                                                    factor=0.1, min_lr=1e-8, \n",
    "                                                    patience=0, verbose=1\n",
    "                                                   )"
   ]
  },
  {
   "cell_type": "code",
   "execution_count": 233,
   "metadata": {},
   "outputs": [
    {
     "data": {
      "text/plain": [
       "array([[    0,     0,     0, ...,   158,  8567,     0],\n",
       "       [    0,     0,     0, ...,   153,  1097,     3],\n",
       "       [    0,     0,     0, ...,   914,    40,   562],\n",
       "       ...,\n",
       "       [    0,     0,     0, ...,  2567,   582,  1923],\n",
       "       [    0,     0,     0, ...,   348,     0,     1],\n",
       "       [    0,     0,     0, ...,   568,    35, 11780]])"
      ]
     },
     "execution_count": 233,
     "metadata": {},
     "output_type": "execute_result"
    }
   ],
   "source": [
    "# 定义callback函数\n",
    "callbacks = [\n",
    "    earlystopping,\n",
    "    checkpoint,\n",
    "    lr_reduction\n",
    "]\n",
    "x_tokens_train"
   ]
  },
  {
   "cell_type": "code",
   "execution_count": 234,
   "metadata": {
    "scrolled": true
   },
   "outputs": [
    {
     "name": "stdout",
     "output_type": "stream",
     "text": [
      "Epoch 1/20\n",
      "38/38 [==============================] - ETA: 0s - loss: 0.5437 - accuracy: 0.7208\n",
      "Epoch 00001: val_loss improved from inf to 0.40546, saving model to sentiment_checkpoint.keras\n",
      "38/38 [==============================] - 49s 1s/step - loss: 0.5437 - accuracy: 0.7208 - val_loss: 0.4055 - val_accuracy: 0.8204\n",
      "Epoch 2/20\n",
      "38/38 [==============================] - ETA: 0s - loss: 0.4432 - accuracy: 0.7864\n",
      "Epoch 00002: val_loss did not improve from 0.40546\n",
      "\n",
      "Epoch 00002: ReduceLROnPlateau reducing learning rate to 0.00010000000474974513.\n",
      "38/38 [==============================] - 51s 1s/step - loss: 0.4432 - accuracy: 0.7864 - val_loss: 0.4629 - val_accuracy: 0.7667\n",
      "Epoch 3/20\n",
      "38/38 [==============================] - ETA: 0s - loss: 0.3899 - accuracy: 0.8218\n",
      "Epoch 00003: val_loss improved from 0.40546 to 0.34328, saving model to sentiment_checkpoint.keras\n",
      "38/38 [==============================] - 52s 1s/step - loss: 0.3899 - accuracy: 0.8218 - val_loss: 0.3433 - val_accuracy: 0.8574\n",
      "Epoch 4/20\n",
      "38/38 [==============================] - ETA: 0s - loss: 0.3281 - accuracy: 0.8632\n",
      "Epoch 00004: val_loss improved from 0.34328 to 0.32730, saving model to sentiment_checkpoint.keras\n",
      "38/38 [==============================] - 52s 1s/step - loss: 0.3281 - accuracy: 0.8632 - val_loss: 0.3273 - val_accuracy: 0.8741\n",
      "Epoch 5/20\n",
      "38/38 [==============================] - ETA: 0s - loss: 0.3104 - accuracy: 0.8718\n",
      "Epoch 00005: val_loss did not improve from 0.32730\n",
      "\n",
      "Epoch 00005: ReduceLROnPlateau reducing learning rate to 1.0000000474974514e-05.\n",
      "38/38 [==============================] - 53s 1s/step - loss: 0.3104 - accuracy: 0.8718 - val_loss: 0.3475 - val_accuracy: 0.8574\n",
      "Epoch 6/20\n",
      "38/38 [==============================] - ETA: 0s - loss: 0.3090 - accuracy: 0.8683\n",
      "Epoch 00006: val_loss improved from 0.32730 to 0.32503, saving model to sentiment_checkpoint.keras\n",
      "38/38 [==============================] - 54s 1s/step - loss: 0.3090 - accuracy: 0.8683 - val_loss: 0.3250 - val_accuracy: 0.8722\n",
      "Epoch 7/20\n",
      "38/38 [==============================] - ETA: 0s - loss: 0.3001 - accuracy: 0.8776\n",
      "Epoch 00007: val_loss improved from 0.32503 to 0.32239, saving model to sentiment_checkpoint.keras\n",
      "38/38 [==============================] - 57s 1s/step - loss: 0.3001 - accuracy: 0.8776 - val_loss: 0.3224 - val_accuracy: 0.8722\n",
      "Epoch 8/20\n",
      "38/38 [==============================] - ETA: 0s - loss: 0.2967 - accuracy: 0.8776\n",
      "Epoch 00008: val_loss improved from 0.32239 to 0.32200, saving model to sentiment_checkpoint.keras\n",
      "38/38 [==============================] - 55s 1s/step - loss: 0.2967 - accuracy: 0.8776 - val_loss: 0.3220 - val_accuracy: 0.8704\n",
      "Epoch 9/20\n",
      "38/38 [==============================] - ETA: 0s - loss: 0.2959 - accuracy: 0.8776\n",
      "Epoch 00009: val_loss improved from 0.32200 to 0.32063, saving model to sentiment_checkpoint.keras\n",
      "38/38 [==============================] - 55s 1s/step - loss: 0.2959 - accuracy: 0.8776 - val_loss: 0.3206 - val_accuracy: 0.8704\n",
      "Epoch 10/20\n",
      "38/38 [==============================] - ETA: 0s - loss: 0.2959 - accuracy: 0.8796\n",
      "Epoch 00010: val_loss improved from 0.32063 to 0.31525, saving model to sentiment_checkpoint.keras\n",
      "38/38 [==============================] - 57s 2s/step - loss: 0.2959 - accuracy: 0.8796 - val_loss: 0.3153 - val_accuracy: 0.8759\n",
      "Epoch 11/20\n",
      "38/38 [==============================] - ETA: 0s - loss: 0.2968 - accuracy: 0.8774\n",
      "Epoch 00011: val_loss did not improve from 0.31525\n",
      "\n",
      "Epoch 00011: ReduceLROnPlateau reducing learning rate to 1.0000000656873453e-06.\n",
      "38/38 [==============================] - 57s 1s/step - loss: 0.2968 - accuracy: 0.8774 - val_loss: 0.3160 - val_accuracy: 0.8722\n",
      "Epoch 12/20\n",
      "38/38 [==============================] - ETA: 0s - loss: 0.2941 - accuracy: 0.8784\n",
      "Epoch 00012: val_loss did not improve from 0.31525\n",
      "\n",
      "Epoch 00012: ReduceLROnPlateau reducing learning rate to 1.0000001111620805e-07.\n",
      "38/38 [==============================] - 55s 1s/step - loss: 0.2941 - accuracy: 0.8784 - val_loss: 0.3159 - val_accuracy: 0.8741\n",
      "Epoch 13/20\n",
      "38/38 [==============================] - ETA: 0s - loss: 0.2939 - accuracy: 0.8788\n",
      "Epoch 00013: val_loss did not improve from 0.31525\n",
      "\n",
      "Epoch 00013: ReduceLROnPlateau reducing learning rate to 1.000000082740371e-08.\n",
      "38/38 [==============================] - 56s 1s/step - loss: 0.2939 - accuracy: 0.8788 - val_loss: 0.3158 - val_accuracy: 0.8741\n",
      "Epoch 14/20\n",
      "38/38 [==============================] - ETA: 0s - loss: 0.2938 - accuracy: 0.8788\n",
      "Epoch 00014: val_loss did not improve from 0.31525\n",
      "\n",
      "Epoch 00014: ReduceLROnPlateau reducing learning rate to 1e-08.\n",
      "38/38 [==============================] - 55s 1s/step - loss: 0.2938 - accuracy: 0.8788 - val_loss: 0.3158 - val_accuracy: 0.8741\n",
      "Epoch 15/20\n",
      "38/38 [==============================] - ETA: 0s - loss: 0.2938 - accuracy: 0.8788\n",
      "Epoch 00015: val_loss did not improve from 0.31525\n",
      "38/38 [==============================] - 55s 1s/step - loss: 0.2938 - accuracy: 0.8788 - val_loss: 0.3158 - val_accuracy: 0.8741\n",
      "Epoch 00015: early stopping\n"
     ]
    },
    {
     "data": {
      "text/plain": [
       "<tensorflow.python.keras.callbacks.History at 0x2e0b083b550>"
      ]
     },
     "execution_count": 234,
     "metadata": {},
     "output_type": "execute_result"
    }
   ],
   "source": [
    "# 开始训练\n",
    "model_lstm.fit(x_tokens_train, y_tokens_train, \n",
    "               validation_split=0.1,\n",
    "               epochs=20, batch_size=128,\n",
    "               callbacks=callbacks\n",
    "              )"
   ]
  },
  {
   "cell_type": "code",
   "execution_count": 235,
   "metadata": {},
   "outputs": [
    {
     "name": "stdout",
     "output_type": "stream",
     "text": [
      "19/19 [==============================] - 2s 113ms/step - loss: 0.3276 - accuracy: 0.8583\n",
      "Accuracy : 0.8583333492279053\n"
     ]
    }
   ],
   "source": [
    "result = model_lstm.evaluate(x_tokens_test, y_tokens_test)\n",
    "print(f'Accuracy : {result[1]}')"
   ]
  },
  {
   "cell_type": "code",
   "execution_count": null,
   "metadata": {},
   "outputs": [],
   "source": []
  }
 ],
 "metadata": {
  "kernelspec": {
   "display_name": "Python 3",
   "language": "python",
   "name": "python3"
  },
  "language_info": {
   "codemirror_mode": {
    "name": "ipython",
    "version": 3
   },
   "file_extension": ".py",
   "mimetype": "text/x-python",
   "name": "python",
   "nbconvert_exporter": "python",
   "pygments_lexer": "ipython3",
   "version": "3.6.5"
  }
 },
 "nbformat": 4,
 "nbformat_minor": 4
}
